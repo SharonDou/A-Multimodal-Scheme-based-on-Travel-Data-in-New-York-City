{
 "cells": [
  {
   "cell_type": "code",
   "execution_count": 52,
   "metadata": {},
   "outputs": [
    {
     "name": "stdout",
     "output_type": "stream",
     "text": [
      "Using matplotlib backend: MacOSX\n",
      "mean is:79.01157193194193\n",
      "standard deviation is:3.253763376903701\n"
     ]
    }
   ],
   "source": [
    "%matplotlib\n",
    "import pandas as pd\n",
    "import itertools\n",
    "import datetime as dt\n",
    "from datetime import datetime\n",
    "import numpy as np\n",
    "import time\n",
    "from scipy.optimize import linear_sum_assignment\n",
    "from matplotlib import pyplot as plt\n",
    "from scipy.interpolate import pchip\n",
    "\n",
    "t_start = time.time()\n",
    "df1_original = pd.read_csv('/Users/mac/Box Sync/Bike-Ride-Sharing/data_code/st9_12months/st9_2015_pkdata(sample)_new/12.csv')\n",
    "df1 = df1_original\n",
    "read_col = pd.read_csv('/Users/mac/Box Sync/Bike-Ride-Sharing/st9_pk_matching/matching12.csv')\n",
    "col_ind = read_col['header'].tolist()\n",
    "\n",
    "df1['day'] = pd.Series(0, index = df1.index)\n",
    "df1['combined'] = pd.Series(False, index = df1.index)\n",
    "\n",
    "i = 0\n",
    "day_list = []\n",
    "while i < len(df1.index):\n",
    "    time_day = datetime.strptime(df1.loc[i]['pk_datetime'], \"%Y-%m-%d %H:%M:%S\")\n",
    "    day = time_day.date().day\n",
    "    if day not in day_list: day_list.append(day)\n",
    "    df1.loc[i,'day'] = day\n",
    "    if col_ind[i] != i:\n",
    "        df1.loc[i,'combined'] = True\n",
    "    i = i + 1\n",
    "\n",
    "df1_sorted = df1.sort_values(['day'])\n",
    "day_list = sorted(day_list)\n",
    "\n",
    "dayratio_list = []\n",
    "\n",
    "for i in range(len(day_list)):\n",
    "    daytrip_temp = 0\n",
    "    daycombined_temp = 0\n",
    "    for j in df1_sorted.index:\n",
    "        if df1_sorted.loc[j]['day'] == day_list[i]:\n",
    "            daytrip_temp = daytrip_temp + 1\n",
    "            if df1_sorted.loc[j]['combined'] == True:\n",
    "                daycombined_temp = daycombined_temp + 1\n",
    "    dayratio = (daycombined_temp/daytrip_temp)*100\n",
    "    dayratio_list.append(dayratio)\n",
    "\n",
    "import statistics\n",
    "\n",
    "mean = statistics.mean(dayratio_list)\n",
    "standard_deviation = statistics.pstdev(dayratio_list)\n",
    "print('mean is:' + str(mean))\n",
    "print('standard deviation is:' + str(standard_deviation))"
   ]
  },
  {
   "cell_type": "code",
   "execution_count": null,
   "metadata": {
    "collapsed": true
   },
   "outputs": [],
   "source": []
  }
 ],
 "metadata": {
  "kernelspec": {
   "display_name": "Python 3",
   "language": "python",
   "name": "python3"
  },
  "language_info": {
   "codemirror_mode": {
    "name": "ipython",
    "version": 3
   },
   "file_extension": ".py",
   "mimetype": "text/x-python",
   "name": "python",
   "nbconvert_exporter": "python",
   "pygments_lexer": "ipython3",
   "version": "3.6.1"
  }
 },
 "nbformat": 4,
 "nbformat_minor": 2
}

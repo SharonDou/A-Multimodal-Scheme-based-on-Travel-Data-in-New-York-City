{
 "cells": [
  {
   "cell_type": "code",
   "execution_count": 77,
   "metadata": {},
   "outputs": [
    {
     "name": "stdout",
     "output_type": "stream",
     "text": [
      "Using matplotlib backend: MacOSX\n"
     ]
    }
   ],
   "source": [
    "%matplotlib\n",
    "import pandas as pd\n",
    "import itertools\n",
    "import datetime as dt\n",
    "from datetime import datetime\n",
    "import numpy as np\n",
    "import time\n",
    "from scipy.optimize import linear_sum_assignment\n",
    "from matplotlib import pyplot as plt\n",
    "from scipy.interpolate import pchip\n",
    "\n",
    "t_start = time.time()\n",
    "df1_original = pd.read_csv('/Users/mac/Box Sync/Bike-Ride-Sharing/data_code/st9_12months/st9_2015_dpdata(sample)_new/st9_3.csv')\n",
    "df1 = df1_original\n",
    "read_col = pd.read_csv('/Users/mac/Box Sync/Bike-Ride-Sharing/st9_dp_matching/matching3.csv')\n",
    "col_ind = read_col['header'].tolist()\n",
    "df1['matching'] = pd.Series(col_ind)"
   ]
  },
  {
   "cell_type": "code",
   "execution_count": 78,
   "metadata": {
    "collapsed": true
   },
   "outputs": [],
   "source": [
    "df1['day'] = pd.Series(0, index = df1.index)\n",
    "df1['combined'] = pd.Series(False, index = df1.index)\n",
    "df1['period'] = pd.Series(0, index = df1.index)"
   ]
  },
  {
   "cell_type": "code",
   "execution_count": 79,
   "metadata": {
    "collapsed": true
   },
   "outputs": [],
   "source": [
    "i = 0\n",
    "day_list = []\n",
    "while i < len(df1.index):\n",
    "    time_day = datetime.strptime(df1.loc[i]['dp_datetime'], \"%Y-%m-%d %H:%M:%S\")\n",
    "    day = time_day.date().day\n",
    "    hour = time_day.time().hour\n",
    "    minute = time_day.time().minute\n",
    "    if day not in day_list: day_list.append(day)\n",
    "    df1.loc[i,'day'] = day\n",
    "    if col_ind[i] != i:\n",
    "        df1.loc[i,'combined'] = True\n",
    "    if hour == 7:\n",
    "        if minute < 11: df1.loc[i,'period'] = 1\n",
    "        elif minute < 21: df1.loc[i,'period'] = 2\n",
    "        elif minute < 31: df1.loc[i,'period'] = 3\n",
    "        elif minute < 41: df1.loc[i,'period'] = 4\n",
    "        elif minute < 51: df1.loc[i,'period'] = 5\n",
    "        else: df1.loc[i,'period'] = 6\n",
    "    else:\n",
    "        if minute < 11: df1.loc[i,'period'] = 7\n",
    "        elif minute < 21: df1.loc[i,'period'] = 8\n",
    "        elif minute < 31: df1.loc[i,'period'] = 9\n",
    "        elif minute < 41: df1.loc[i,'period'] = 10\n",
    "        elif minute < 51: df1.loc[i,'period'] = 11\n",
    "        else: df1.loc[i,'period'] = 12\n",
    "    i = i + 1\n",
    "\n",
    "df1_sorted = df1.sort_values(['dp_datetime'])\n",
    "day_list = sorted(day_list)\n",
    "\n",
    "dayratio_list = []"
   ]
  },
  {
   "cell_type": "code",
   "execution_count": 80,
   "metadata": {
    "collapsed": true
   },
   "outputs": [],
   "source": [
    "bike_demand = []\n",
    "for day_temp in day_list:\n",
    "    bike_demand_temp = []\n",
    "    for period_temp in range(1,13):\n",
    "        total = np.sum(df1_sorted[(df1_sorted['day'] == day_temp)&(df1_sorted['period'] == period_temp)]['passenger_count'].tolist())\n",
    "        bike_demand_temp.append(total)\n",
    "    bike_demand.append(bike_demand_temp)"
   ]
  },
  {
   "cell_type": "code",
   "execution_count": 83,
   "metadata": {},
   "outputs": [
    {
     "data": {
      "text/plain": [
       "[[23, 11, 22, 12, 34, 10, 29, 21, 33, 29, 29, 29],\n",
       " [26, 35, 41, 29, 39, 34, 34, 25, 34, 40, 29, 26],\n",
       " [33, 13, 31, 21, 34, 36, 32, 36, 30, 38, 27, 25],\n",
       " [35, 16, 39, 33, 28, 37, 47, 17, 32, 24, 20, 29],\n",
       " [16, 19, 32, 17, 34, 20, 21, 31, 24, 24, 26, 20],\n",
       " [28, 27, 32, 22, 25, 36, 27, 30, 38, 30, 20, 26],\n",
       " [32, 31, 30, 27, 39, 37, 15, 27, 29, 27, 16, 42],\n",
       " [23, 16, 20, 22, 35, 38, 37, 12, 15, 25, 32, 43],\n",
       " [29, 15, 33, 17, 29, 25, 25, 25, 29, 43, 33, 15],\n",
       " [27, 21, 22, 23, 15, 32, 37, 33, 19, 28, 35, 14],\n",
       " [30, 32, 20, 39, 22, 20, 12, 28, 38, 21, 33, 17],\n",
       " [30, 35, 20, 26, 48, 24, 29, 24, 30, 28, 22, 24],\n",
       " [36, 40, 34, 35, 26, 36, 50, 39, 41, 27, 48, 53],\n",
       " [36, 21, 36, 28, 18, 31, 33, 30, 37, 41, 38, 32],\n",
       " [24, 27, 24, 25, 45, 46, 42, 30, 17, 38, 24, 25],\n",
       " [33, 33, 18, 30, 30, 26, 43, 28, 28, 33, 27, 24],\n",
       " [13, 21, 15, 31, 15, 44, 43, 35, 43, 43, 39, 27],\n",
       " [24, 12, 38, 27, 32, 27, 31, 30, 49, 36, 33, 26],\n",
       " [50, 33, 22, 48, 23, 42, 27, 40, 38, 27, 29, 28],\n",
       " [67, 23, 37, 43, 33, 30, 41, 26, 36, 26, 28, 29],\n",
       " [29, 27, 32, 16, 23, 55, 37, 24, 29, 25, 30, 20],\n",
       " [23, 37, 12, 34, 30, 31, 36, 22, 27, 49, 22, 20]]"
      ]
     },
     "execution_count": 83,
     "metadata": {},
     "output_type": "execute_result"
    }
   ],
   "source": [
    "bike_demand"
   ]
  },
  {
   "cell_type": "code",
   "execution_count": 84,
   "metadata": {
    "collapsed": true
   },
   "outputs": [],
   "source": [
    "allbike_demand = []\n",
    "for item in bike_demand:\n",
    "    allbike_demand = allbike_demand + item\n",
    "\n",
    "import plotly.plotly as py\n",
    "from matplotlib import colors as mcolors\n",
    "\n",
    "x = np.array(range(1,265))\n",
    "y1 = allbike_demand\n",
    "y2 = np.empty(len(x))\n",
    "y2.fill(35)"
   ]
  },
  {
   "cell_type": "code",
   "execution_count": 87,
   "metadata": {},
   "outputs": [
    {
     "data": {
      "text/plain": [
       "67"
      ]
     },
     "execution_count": 87,
     "metadata": {},
     "output_type": "execute_result"
    }
   ],
   "source": [
    "np.max(y1)"
   ]
  },
  {
   "cell_type": "code",
   "execution_count": 88,
   "metadata": {},
   "outputs": [
    {
     "data": {
      "text/plain": [
       "(0, 70)"
      ]
     },
     "execution_count": 88,
     "metadata": {},
     "output_type": "execute_result"
    }
   ],
   "source": [
    "plt.plot(x, y1, '-', linewidth=2, label='Required Bikes',color='#4682b4')\n",
    "plt.plot(x, y2, '-', linewidth=2, label='Capacity of Station9',color='red')\n",
    "\n",
    "plt.fill_between(x, y1,np.zeros(len(x)), facecolor='#4682b4', interpolate=True)\n",
    "\n",
    "locs, labels = plt.xticks()\n",
    "\n",
    "plt.xticks(np.arange(0,278,12),[0]+ day_list)\n",
    "plt.xlim(0,264)\n",
    "plt.ylim(0,70)"
   ]
  },
  {
   "cell_type": "code",
   "execution_count": 89,
   "metadata": {},
   "outputs": [
    {
     "data": {
      "text/plain": [
       "<matplotlib.legend.Legend at 0x11f63d9e8>"
      ]
     },
     "execution_count": 89,
     "metadata": {},
     "output_type": "execute_result"
    }
   ],
   "source": [
    "plt.xlabel(r'Day in March')\n",
    "plt.ylabel('Number of Required Bikes at Hub')\n",
    "plt.legend(loc='upper left')"
   ]
  },
  {
   "cell_type": "code",
   "execution_count": null,
   "metadata": {
    "collapsed": true
   },
   "outputs": [],
   "source": []
  }
 ],
 "metadata": {
  "kernelspec": {
   "display_name": "Python 3",
   "language": "python",
   "name": "python3"
  },
  "language_info": {
   "codemirror_mode": {
    "name": "ipython",
    "version": 3
   },
   "file_extension": ".py",
   "mimetype": "text/x-python",
   "name": "python",
   "nbconvert_exporter": "python",
   "pygments_lexer": "ipython3",
   "version": "3.6.1"
  }
 },
 "nbformat": 4,
 "nbformat_minor": 2
}

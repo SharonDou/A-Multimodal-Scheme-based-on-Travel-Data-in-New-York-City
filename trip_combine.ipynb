{
 "cells": [
  {
   "cell_type": "markdown",
   "metadata": {},
   "source": [
    "##import packages"
   ]
  },
  {
   "cell_type": "code",
   "execution_count": 289,
   "metadata": {
    "collapsed": true
   },
   "outputs": [],
   "source": [
    "import csv\n",
    "import utm\n",
    "import pandas as pd\n",
    "import datetime as dt\n",
    "from datetime import datetime\n",
    "import geopandas as gpd\n",
    "import numpy as np\n",
    "from geopandas import GeoDataFrame\n",
    "from shapely.geometry import Point"
   ]
  },
  {
   "cell_type": "code",
   "execution_count": 290,
   "metadata": {
    "collapsed": true
   },
   "outputs": [],
   "source": [
    "dp_start = dt.time(7,0,0)\n",
    "dp_end = dt.time(9,0,0)\n",
    "pk_start = dt.time(16,0,0)\n",
    "pk_end = dt.time(18,0,0)"
   ]
  },
  {
   "cell_type": "code",
   "execution_count": 291,
   "metadata": {
    "collapsed": true
   },
   "outputs": [],
   "source": [
    "yellow_trip = pd.read_csv('/Users/mac/Desktop/yellow-trip-new03.csv')\n",
    "\n",
    "yellow_trip['dp_datetime'] = pd.to_datetime(yellow_trip['tpep_dropoff_datetime'])\n",
    "yellow_trip['pk_datetime'] = pd.to_datetime(yellow_trip['tpep_pickup_datetime'])\n",
    "yellow_trip['dp_time'] = yellow_trip['dp_datetime'].dt.time\n",
    "yellow_trip['pk_time'] = yellow_trip['pk_datetime'].dt.time"
   ]
  },
  {
   "cell_type": "markdown",
   "metadata": {},
   "source": [
    "##select weekdays"
   ]
  },
  {
   "cell_type": "code",
   "execution_count": 292,
   "metadata": {
    "collapsed": true
   },
   "outputs": [],
   "source": [
    "yellow_trip['weekday'] = yellow_trip['dp_datetime'].apply(lambda x: x.weekday())\n",
    "yp_weekdays_only = yellow_trip[yellow_trip['weekday'] < 5 ]"
   ]
  },
  {
   "cell_type": "markdown",
   "metadata": {},
   "source": [
    "##select peak hours"
   ]
  },
  {
   "cell_type": "code",
   "execution_count": 293,
   "metadata": {},
   "outputs": [],
   "source": [
    "yp_dp = yp_weekdays_only[yp_weekdays_only['dp_time'].between(dp_start,dp_end)]\n",
    "yp_pk = yp_weekdays_only[yp_weekdays_only['pk_time'].between(pk_start,pk_end)]"
   ]
  },
  {
   "cell_type": "markdown",
   "metadata": {},
   "source": [
    "##get SCP-station nad "
   ]
  },
  {
   "cell_type": "code",
   "execution_count": 294,
   "metadata": {},
   "outputs": [],
   "source": [
    "station_nad = gpd.read_file('/Users/mac/Desktop/SCP_Station/SCP_station_nad.shp')\n",
    "station = []\n",
    "for index, row in station_nad.iterrows():\n",
    "    for st in list(row['geometry'].coords):\n",
    "        station.append(st)"
   ]
  },
  {
   "cell_type": "markdown",
   "metadata": {},
   "source": [
    "##find dp_point within each station"
   ]
  },
  {
   "cell_type": "code",
   "execution_count": 295,
   "metadata": {},
   "outputs": [],
   "source": [
    "demand_station = []\n",
    "for st_candidate in station:\n",
    "    dt_temp = []\n",
    "    st_buffer = Point(st_candidate).buffer(1000)\n",
    "    for dp in yp_dp.index:\n",
    "        x = utm.from_latlon(yp_dp.loc[dp,'Dropoff_latitude'],yp_dp.loc[dp,'Dropoff_longitude'])[0:2]\n",
    "        if st_buffer.contains(Point(x)):\n",
    "            dt_temp.append(dp)\n",
    "    demand_station.append(dt_temp)"
   ]
  },
  {
   "cell_type": "markdown",
   "metadata": {},
   "source": [
    "##convert dataframe to csv of station_demand"
   ]
  },
  {
   "cell_type": "code",
   "execution_count": 488,
   "metadata": {},
   "outputs": [],
   "source": [
    "df1 = yp_dp[yp_dp.index.isin(demand_station[1])]\n",
    "df1.to_csv('/Users/mac/Desktop/df1.csv')"
   ]
  },
  {
   "cell_type": "code",
   "execution_count": 490,
   "metadata": {
    "collapsed": true
   },
   "outputs": [],
   "source": [
    "def dist(n1, n2):\n",
    "    x1, y1 = utm.from_latlon(df1.iloc[n1]['Pickup_latitude'],df1.iloc[n1]['Pickup_longitude'])[0:2]\n",
    "    x2, y2 = utm.from_latlon(df1.iloc[n2]['Pickup_latitude'],df1.iloc[n2]['Pickup_longitude'])[0:2]\n",
    "    distance = np.sqrt((x2-x1)**2 + (y2-y1)**2)\n",
    "    return distance"
   ]
  },
  {
   "cell_type": "code",
   "execution_count": 491,
   "metadata": {},
   "outputs": [],
   "source": [
    "def capa(n1, n2):\n",
    "    c1 = df1.iloc[n1]['Passenger_count']\n",
    "    c2 = df1.iloc[n2]['Passenger_count']\n",
    "    if c1 + c2 > 4:\n",
    "        total = float('inf')\n",
    "    else:\n",
    "        total = 1\n",
    "    return total"
   ]
  },
  {
   "cell_type": "code",
   "execution_count": 492,
   "metadata": {},
   "outputs": [],
   "source": [
    "def time(n1, n2):\n",
    "    t1 = str(df1.iloc[n1]['pk_time'])\n",
    "    t2 = str(df1.iloc[n2]['pk_time'])\n",
    "    FMT = '%H:%M:%S'\n",
    "    tdelta = datetime.strptime(t2, FMT) - datetime.strptime(t1, FMT)\n",
    "    mindelta = tdelta.seconds/60\n",
    "    if mindelta > 10:\n",
    "        m = float('inf')\n",
    "    else:\n",
    "        m = mindelta\n",
    "    return m"
   ]
  },
  {
   "cell_type": "code",
   "execution_count": 493,
   "metadata": {},
   "outputs": [],
   "source": [
    "def cost(n1, n2):\n",
    "    cost = dist(n1, n2) * capa(n1, n2) * time(n1, n2)\n",
    "    return cost"
   ]
  },
  {
   "cell_type": "code",
   "execution_count": 494,
   "metadata": {},
   "outputs": [],
   "source": [
    "matrix_1 = np.zeros((len(demand_df1.index), len(demand_df1.index)))\n",
    "\n",
    "i = 0\n",
    "while i < len(demand_df1.index):\n",
    "    j = 0\n",
    "    while j < len(demand_df1.index):\n",
    "        matrix_1[i][j] = cost(i,j)\n",
    "        #matrix_1[i][j] = 2\n",
    "        j = j+1\n",
    "    i = i+1"
   ]
  }
 ],
 "metadata": {
  "kernelspec": {
   "display_name": "Python 3",
   "language": "python",
   "name": "python3"
  },
  "language_info": {
   "codemirror_mode": {
    "name": "ipython",
    "version": 3
   },
   "file_extension": ".py",
   "mimetype": "text/x-python",
   "name": "python",
   "nbconvert_exporter": "python",
   "pygments_lexer": "ipython3",
   "version": "3.6.1"
  }
 },
 "nbformat": 4,
 "nbformat_minor": 2
}

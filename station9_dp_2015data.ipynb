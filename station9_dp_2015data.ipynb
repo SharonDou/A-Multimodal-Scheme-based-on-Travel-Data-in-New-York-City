{
 "cells": [
  {
   "cell_type": "code",
   "execution_count": null,
   "metadata": {
    "collapsed": true
   },
   "outputs": [],
   "source": [
    "import utm\n",
    "import pandas as pd\n",
    "import datetime as dt\n",
    "from datetime import datetime\n",
    "import geopandas as gpd\n",
    "import numpy as np\n",
    "import time\n",
    "from geopandas import GeoDataFrame\n",
    "from shapely.geometry import Point\n",
    "\n",
    "t0 = time.time()\n",
    "\n",
    "dp_start = dt.time(7,0,0)\n",
    "dp_end = dt.time(9,0,0)\n",
    "#pk_start = dt.time(16,0,0)\n",
    "#pk_end = dt.time(18,0,0)\n",
    "\n",
    "yellow_trip = pd.read_csv('/Users/mac/Google 云端硬盘/Manhattan/data/2015_yellowdata/data/data_10.csv')\n",
    "yellow_trip['dp_datetime'] = pd.to_datetime(yellow_trip['tpep_dropoff_datetime'])\n",
    "yellow_trip['weekday'] = yellow_trip['dp_datetime'].apply(lambda x: x.weekday())\n",
    "yp_weekdays_only = yellow_trip[yellow_trip['weekday'] < 5 ]\n",
    "\n",
    "yp_dp_all = yp_weekdays_only[yp_weekdays_only['dp_datetime'].dt.time.between(dp_start,dp_end)]\n",
    "\n",
    "yp_dp = yp_dp_all.sample(frac=0.1)\n",
    "\n",
    "station_9 =(585504.3123295848, 4513258.285922298)\n",
    "\n",
    "demand_station = []\n",
    "st9_buffer = Point(station_9).buffer(1000)\n",
    "for dp in yp_dp.index:\n",
    "    x = utm.from_latlon(yp_dp.loc[dp,'pickup_latitude'],yp_dp.loc[dp,'pickup_longitude'])[0:2]\n",
    "    if st9_buffer.contains(Point(x)):\n",
    "        demand_station.append(dp)\n",
    "\n",
    "#len(demand_station)\n",
    "\n",
    "df1 = yp_pk[yp_pk.index.isin(demand_station)]\n",
    "df = df1.sample(frac = 0.5)\n",
    "dir = '/Users/mac/Desktop/st9_2015_dpdata(sample)/10.csv'\n",
    "df.to_csv(dir)\n",
    "t1 = time.time()\n",
    "print('time:'+ str(t1-t0))"
   ]
  }
 ],
 "metadata": {
  "kernelspec": {
   "display_name": "Python 3",
   "language": "python",
   "name": "python3"
  },
  "language_info": {
   "codemirror_mode": {
    "name": "ipython",
    "version": 3
   },
   "file_extension": ".py",
   "mimetype": "text/x-python",
   "name": "python",
   "nbconvert_exporter": "python",
   "pygments_lexer": "ipython3",
   "version": "3.6.1"
  }
 },
 "nbformat": 4,
 "nbformat_minor": 2
}

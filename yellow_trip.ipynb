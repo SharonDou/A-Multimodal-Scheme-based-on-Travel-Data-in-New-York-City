{
 "cells": [
  {
   "cell_type": "code",
   "execution_count": 174,
   "metadata": {
    "collapsed": true
   },
   "outputs": [],
   "source": [
    "import csv\n",
    "import pandas as pd\n",
    "import datetime as dt\n",
    "import geopandas as gpd\n",
    "from geopandas import GeoDataFrame\n",
    "from shapely.geometry import Point"
   ]
  },
  {
   "cell_type": "markdown",
   "metadata": {},
   "source": [
    "##set day-peak & night-peak"
   ]
  },
  {
   "cell_type": "code",
   "execution_count": 231,
   "metadata": {
    "collapsed": true
   },
   "outputs": [],
   "source": [
    "dp_start = dt.time(7,0,0)\n",
    "dp_end = dt.time(9,0,0)\n",
    "pk_start = dt.time(16,0,0)\n",
    "pk_end = dt.time(18,0,0)"
   ]
  },
  {
   "cell_type": "code",
   "execution_count": 310,
   "metadata": {},
   "outputs": [],
   "source": [
    "yellow_trip = pd.read_csv('/Users/mac/Desktop/yellow-trip-new03.csv')\n",
    "\n",
    "yellow_trip['dp_datetime'] = pd.to_datetime(yellow_trip['tpep_dropoff_datetime'])\n",
    "yellow_trip['pk_datetime'] = pd.to_datetime(yellow_trip['tpep_pickup_datetime'])\n",
    "yellow_trip['dp_time'] = yellow_trip['dp_datetime'].dt.time\n",
    "yellow_trip['pk_time'] = yellow_trip['pk_datetime'].dt.time\n",
    "\n",
    "yp_dp = yellow_trip[yellow_trip['dp_time'].between(dp_start,dp_end)]\n",
    "yp_pk = yellow_trip[yellow_trip['pk_time'].between(pk_start,pk_end)]\n",
    "\n",
    "geometry_pk = [Point(xy) for xy in zip(yp_pk.Pickup_longitude, yp_pk.Pickup_latitude)]\n",
    "\n",
    "yp_pk = yp_pk.drop(['Pickup_longitude', 'Pickup_latitude'], axis=1)\n",
    "\n",
    "crs = {'init': 'epsg:4326'}\n",
    "geo_yp_pk = GeoDataFrame(yp_pk, crs=crs, geometry=geometry_pk)\n",
    "\n",
    "geometry_dp = [Point(xy) for xy in zip(yp_dp.Dropoff_longitude, yp_dp.Dropoff_latitude)]\n",
    "\n",
    "yp_dp = yp_dp.drop(['Dropoff_longitude', 'Dropoff_latitude'], axis=1)\n",
    "\n",
    "crs = {'init': 'epsg:4326'}\n",
    "geo_yp_dp = GeoDataFrame(yp_dp, crs=crs, geometry=geometry_dp)\n",
    "\n",
    "geo_yp_pk['geometry_pk'] = geo_yp_pk['geometry']\n",
    "geo_yp_dp['geometry_dp'] = geo_yp_dp['geometry']"
   ]
  },
  {
   "cell_type": "markdown",
   "metadata": {},
   "source": [
    "##10% sampling convert to shapefile"
   ]
  },
  {
   "cell_type": "code",
   "execution_count": 299,
   "metadata": {
    "collapsed": true
   },
   "outputs": [],
   "source": [
    "geo_yp_pk_1 = geo_yp_pk.sample(frac=0.1)\n",
    "geo_yp_dp_1 = geo_yp_dp.sample(frac=0.1)\n",
    "\n",
    "yp_pk_point_1 = geo_yp_pk_1[['geometry_pk']]\n",
    "\n",
    "yp_pk_point_1 = gpd.GeoDataFrame(yp_pk_point_1, geometry='geometry_pk')\n",
    "\n",
    "yp_pk_point_1.to_file('/Users/mac/Desktop/yp_pk_point_1.shp', driver='ESRI Shapefile')\n",
    "\n",
    "yp_dp_point_1 = geo_yp_dp_1[['geometry_dp']]\n",
    "\n",
    "yp_dp_point_1 = gpd.GeoDataFrame(yp_dp_point_1, geometry='geometry_dp')\n",
    "\n",
    "yp_dp_point_1.to_file('/Users/mac/Desktop/yp_dp_point_1.shp', driver='ESRI Shapefile')"
   ]
  },
  {
   "cell_type": "markdown",
   "metadata": {},
   "source": [
    "##all convert to shapefile"
   ]
  },
  {
   "cell_type": "code",
   "execution_count": 297,
   "metadata": {
    "collapsed": true
   },
   "outputs": [],
   "source": [
    "yp_pk_point = geo_yp_pk[['geometry_pk']]\n",
    "\n",
    "yp_pk_point = gpd.GeoDataFrame(yp_pk_point, geometry='geometry_pk')\n",
    "\n",
    "yp_pk_point.to_file('/Users/mac/Desktop/yp_pk_point.shp', driver='ESRI Shapefile')\n",
    "\n",
    "yp_dp_point = geo_yp_dp[['geometry_dp']]\n",
    "\n",
    "yp_dp_point = gpd.GeoDataFrame(yp_dp_point, geometry='geometry_dp')\n",
    "\n",
    "yp_dp_point.to_file('/Users/mac/Desktop/yp_dp_point.shp', driver='ESRI Shapefile')"
   ]
  }
 ],
 "metadata": {
  "kernelspec": {
   "display_name": "Python 3",
   "language": "python",
   "name": "python3"
  },
  "language_info": {
   "codemirror_mode": {
    "name": "ipython",
    "version": 3
   },
   "file_extension": ".py",
   "mimetype": "text/x-python",
   "name": "python",
   "nbconvert_exporter": "python",
   "pygments_lexer": "ipython3",
   "version": "3.6.1"
  }
 },
 "nbformat": 4,
 "nbformat_minor": 2
}

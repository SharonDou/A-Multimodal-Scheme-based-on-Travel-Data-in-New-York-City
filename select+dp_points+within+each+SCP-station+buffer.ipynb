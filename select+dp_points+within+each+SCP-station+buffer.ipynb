{
 "cells": [
  {
   "cell_type": "code",
   "execution_count": 1,
   "metadata": {
    "collapsed": true
   },
   "outputs": [],
   "source": [
    "## import csv\n",
    "import utm\n",
    "import pandas as pd\n",
    "import datetime as dt\n",
    "from datetime import datetime\n",
    "import geopandas as gpd\n",
    "import numpy as np\n",
    "import time\n",
    "from geopandas import GeoDataFrame\n",
    "from shapely.geometry import Point"
   ]
  },
  {
   "cell_type": "code",
   "execution_count": 2,
   "metadata": {
    "collapsed": true
   },
   "outputs": [],
   "source": [
    "dp_start = dt.time(7,0,0)\n",
    "dp_end = dt.time(9,0,0)\n",
    "pk_start = dt.time(16,0,0)\n",
    "pk_end = dt.time(18,0,0)"
   ]
  },
  {
   "cell_type": "code",
   "execution_count": 3,
   "metadata": {
    "collapsed": true
   },
   "outputs": [],
   "source": [
    "yellow_trip = pd.read_csv('/Users/mac/Desktop/yellow-trip-new03.csv')\n",
    "\n",
    "yellow_trip['dp_datetime'] = pd.to_datetime(yellow_trip['tpep_dropoff_datetime'])\n",
    "yellow_trip['pk_datetime'] = pd.to_datetime(yellow_trip['tpep_pickup_datetime'])"
   ]
  },
  {
   "cell_type": "code",
   "execution_count": 4,
   "metadata": {
    "collapsed": true
   },
   "outputs": [],
   "source": [
    "yellow_trip['weekday'] = yellow_trip['dp_datetime'].apply(lambda x: x.weekday())\n",
    "yp_weekdays_only = yellow_trip[yellow_trip['weekday'] < 5 ]"
   ]
  },
  {
   "cell_type": "code",
   "execution_count": 5,
   "metadata": {
    "collapsed": true
   },
   "outputs": [],
   "source": [
    "yp_dp = yp_weekdays_only[yp_weekdays_only['dp_datetime'].dt.time.between(dp_start,dp_end)]\n",
    "yp_pk = yp_weekdays_only[yp_weekdays_only['pk_datetime'].dt.time.between(pk_start,pk_end)]"
   ]
  },
  {
   "cell_type": "code",
   "execution_count": 6,
   "metadata": {
    "collapsed": true
   },
   "outputs": [],
   "source": [
    "station_nad = gpd.read_file('/Users/mac/Desktop/SCP_Station/SCP_station_nad.shp')\n",
    "station = []\n",
    "for index, row in station_nad.iterrows():\n",
    "    for st in list(row['geometry'].coords):\n",
    "        station.append(st)"
   ]
  },
  {
   "cell_type": "code",
   "execution_count": 7,
   "metadata": {
    "collapsed": true
   },
   "outputs": [],
   "source": [
    "demand_station = []\n",
    "for st_candidate in station:\n",
    "    dt_temp = []\n",
    "    st_buffer = Point(st_candidate).buffer(1000)\n",
    "    for dp in yp_dp.index:\n",
    "        x = utm.from_latlon(yp_dp.loc[dp,'Dropoff_latitude'],yp_dp.loc[dp,'Dropoff_longitude'])[0:2]\n",
    "        if st_buffer.contains(Point(x)):\n",
    "            dt_temp.append(dp)\n",
    "    demand_station.append(dt_temp)"
   ]
  },
  {
   "cell_type": "code",
   "execution_count": 10,
   "metadata": {
    "collapsed": true
   },
   "outputs": [],
   "source": [
    "import random\n",
    "\n",
    "demand_station[2] = random.sample(demand_station[2],  4500)\n",
    "demand_station[3] = random.sample(demand_station[3],  4500)\n",
    "demand_station[8] = random.sample(demand_station[8],  4500)\n",
    "demand_station[9] = random.sample(demand_station[9],  4500)\n",
    "demand_station[10] = random.sample(demand_station[10],  4500)\n",
    "demand_station[13] = random.sample(demand_station[13],  4500)"
   ]
  },
  {
   "cell_type": "code",
   "execution_count": 11,
   "metadata": {},
   "outputs": [
    {
     "name": "stdout",
     "output_type": "stream",
     "text": [
      "0 4174\n",
      "1 632\n",
      "2 4500\n",
      "3 4500\n",
      "4 4273\n",
      "5 3795\n",
      "6 3381\n",
      "7 547\n",
      "8 4500\n",
      "9 4500\n",
      "10 4500\n",
      "11 4219\n",
      "12 3055\n",
      "13 4500\n",
      "14 4573\n",
      "15 2090\n",
      "16 2465\n"
     ]
    }
   ],
   "source": [
    "j = 0\n",
    "while j < 17:\n",
    "    print(j, len(demand_station[j]))\n",
    "    j =  j + 1"
   ]
  },
  {
   "cell_type": "code",
   "execution_count": 12,
   "metadata": {
    "collapsed": true
   },
   "outputs": [],
   "source": [
    "i = 0\n",
    "while i < 17:    \n",
    "    df1 = yp_dp[yp_dp.index.isin(demand_station[i])]\n",
    "    name = 'df'+ str(i)\n",
    "    dir = '/Users/mac/Desktop/df_dp_sample_data/' + name + '.csv'\n",
    "    df1.to_csv(dir)\n",
    "    i = i + 1"
   ]
  },
  {
   "cell_type": "markdown",
   "metadata": {},
   "source": [
    "##############################"
   ]
  },
  {
   "cell_type": "code",
   "execution_count": 160,
   "metadata": {},
   "outputs": [
    {
     "name": "stdout",
     "output_type": "stream",
     "text": [
      "0 4174\n",
      "1 632\n",
      "2 13432\n",
      "3 5742\n",
      "4 4273\n",
      "5 3795\n",
      "6 3381\n",
      "7 547\n",
      "8 18279\n",
      "9 7752\n",
      "10 8104\n",
      "11 4219\n",
      "12 3055\n",
      "13 7206\n",
      "14 4573\n",
      "15 2090\n",
      "16 2465\n"
     ]
    }
   ],
   "source": [
    "j = 0\n",
    "while j < 17:\n",
    "    print(j, len(demand_station[j]))\n",
    "    j =  j + 1"
   ]
  }
 ],
 "metadata": {
  "kernelspec": {
   "display_name": "Python 3",
   "language": "python",
   "name": "python3"
  },
  "language_info": {
   "codemirror_mode": {
    "name": "ipython",
    "version": 3
   },
   "file_extension": ".py",
   "mimetype": "text/x-python",
   "name": "python",
   "nbconvert_exporter": "python",
   "pygments_lexer": "ipython3",
   "version": "3.6.1"
  }
 },
 "nbformat": 4,
 "nbformat_minor": 2
}

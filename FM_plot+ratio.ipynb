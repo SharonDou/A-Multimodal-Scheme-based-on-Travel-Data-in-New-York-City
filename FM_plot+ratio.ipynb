{
 "cells": [
  {
   "cell_type": "code",
   "execution_count": 60,
   "metadata": {},
   "outputs": [
    {
     "name": "stdout",
     "output_type": "stream",
     "text": [
      "Using matplotlib backend: MacOSX\n"
     ]
    }
   ],
   "source": [
    "%matplotlib\n",
    "import numpy as np\n",
    "from sympy import *\n",
    "import matplotlib.pyplot as plt"
   ]
  },
  {
   "cell_type": "code",
   "execution_count": 61,
   "metadata": {
    "collapsed": true
   },
   "outputs": [],
   "source": [
    "maximum_distance = [0.5,1,2,3,4,5,6,7]\n",
    "ratio_dist = [18.31,35.70,63.50,73.91,77.87,80.11,81.82,82.87]\n",
    "maximum_time = [1,2,3,4,5,6,7,8,9,10]\n",
    "ratio_time = [58.37,62.58,66.01,67.85,69.30,70.62,71.54,72.60,73.25,73.91]"
   ]
  },
  {
   "cell_type": "code",
   "execution_count": 62,
   "metadata": {},
   "outputs": [
    {
     "data": {
      "text/plain": [
       "<matplotlib.legend.Legend at 0x12af6ddd8>"
      ]
     },
     "execution_count": 62,
     "metadata": {},
     "output_type": "execute_result"
    }
   ],
   "source": [
    "plt.xlabel('Maximum Distance $L_{max}$, km')\n",
    "plt.ylabel('Ratio of Carpooling Trips,%')\n",
    "plt.plot(maximum_distance, ratio_dist, marker='o',linestyle='--',color=\"blue\",\n",
    "        label=\"carpooling 2 trips\")\n",
    "plt.legend(loc='lower right')"
   ]
  },
  {
   "cell_type": "code",
   "execution_count": 63,
   "metadata": {
    "collapsed": true
   },
   "outputs": [],
   "source": [
    "z1 = np.polyfit(maximum_distance, ratio_dist, 4)\n",
    "p1 = np.poly1d(z1)"
   ]
  },
  {
   "cell_type": "code",
   "execution_count": 64,
   "metadata": {},
   "outputs": [
    {
     "data": {
      "text/plain": [
       "<matplotlib.legend.Legend at 0x12b45c400>"
      ]
     },
     "execution_count": 64,
     "metadata": {},
     "output_type": "execute_result"
    }
   ],
   "source": [
    "plt.plot(maximum_distance, p1(maximum_distance), 'gv--', label='Poly Fitting Line(deg=4)')\n",
    "plt.annotate(r'$ L_{max}^{*}= 3.0$km', xy=(3.0, p1(3.0)), xytext=(4, 68),\n",
    "             arrowprops=dict(facecolor='black', shrink=0.1, width=2, headwidth=6),)\n",
    "plt.plot([3.0],[p1(3.0)],marker='o',color='red',markersize=10,label='optimal distance')\n",
    "plt.legend(loc='lower right')"
   ]
  },
  {
   "cell_type": "code",
   "execution_count": 68,
   "metadata": {},
   "outputs": [
    {
     "data": {
      "text/plain": [
       "<matplotlib.legend.Legend at 0x12d033cf8>"
      ]
     },
     "execution_count": 68,
     "metadata": {},
     "output_type": "execute_result"
    }
   ],
   "source": [
    "plt.xlabel(r'Maximum Waiting Time $T_{FM}$, min')\n",
    "plt.ylabel('Ratio of Carpooling Trips,%')\n",
    "plt.plot(maximum_time, ratio_time, marker='o',linestyle='--',color=\"blue\",\n",
    "        label=\"carpooling 2 trips\")\n",
    "#plt.yticks(arange(10,80,10))\n",
    "plt.ylim((10,80))\n",
    "plt.legend(loc='upper left')"
   ]
  },
  {
   "cell_type": "code",
   "execution_count": 69,
   "metadata": {
    "collapsed": true
   },
   "outputs": [],
   "source": [
    "z2 = np.polyfit(maximum_time, ratio_time, 4)\n",
    "p2 = np.poly1d(z2)"
   ]
  },
  {
   "cell_type": "code",
   "execution_count": 70,
   "metadata": {},
   "outputs": [
    {
     "data": {
      "text/plain": [
       "<matplotlib.legend.Legend at 0x12ae8a358>"
      ]
     },
     "execution_count": 70,
     "metadata": {},
     "output_type": "execute_result"
    }
   ],
   "source": [
    "plt.plot(maximum_time, p2(maximum_time), 'gv--', label='Poly Fitting Line(deg=4)')\n",
    "plt.annotate(r'$ T_{FM}^{*}= 3.0$min', xy=(3.0, p2(3.0)), xytext=(4.5, 55),\n",
    "             arrowprops=dict(facecolor='black', shrink=0.1,width=2, headwidth=6),)\n",
    "plt.plot([3.0],[p2(3.0)],marker='o',color='red',markersize=10,label='optimal time')\n",
    "plt.legend(loc='lower right')"
   ]
  },
  {
   "cell_type": "code",
   "execution_count": null,
   "metadata": {
    "collapsed": true
   },
   "outputs": [],
   "source": []
  }
 ],
 "metadata": {
  "kernelspec": {
   "display_name": "Python 3",
   "language": "python",
   "name": "python3"
  },
  "language_info": {
   "codemirror_mode": {
    "name": "ipython",
    "version": 3
   },
   "file_extension": ".py",
   "mimetype": "text/x-python",
   "name": "python",
   "nbconvert_exporter": "python",
   "pygments_lexer": "ipython3",
   "version": "3.6.1"
  }
 },
 "nbformat": 4,
 "nbformat_minor": 2
}
